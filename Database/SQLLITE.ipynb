{
 "cells": [
  {
   "cell_type": "code",
   "execution_count": 1,
   "id": "6e51cc10",
   "metadata": {},
   "outputs": [],
   "source": [
    "import sqlite3"
   ]
  },
  {
   "cell_type": "code",
   "execution_count": 3,
   "id": "335552a6",
   "metadata": {},
   "outputs": [],
   "source": [
    "db=sqlite3.connect(\"ineuron.db\")"
   ]
  },
  {
   "cell_type": "code",
   "execution_count": 5,
   "id": "f7e0b366",
   "metadata": {},
   "outputs": [
    {
     "name": "stdout",
     "output_type": "stream",
     "text": [
      " Volume in drive C has no label.\n",
      " Volume Serial Number is 6058-0995\n",
      "\n",
      " Directory of C:\\Users\\AMAN\\Documents\\data science\\Database\n",
      "\n",
      "04/19/2022  08:04 AM    <DIR>          .\n",
      "02/21/2022  03:05 PM    <DIR>          ..\n",
      "04/19/2022  07:58 AM    <DIR>          .ipynb_checkpoints\n",
      "03/06/2022  09:39 PM    <DIR>          19.3 MongoDB\n",
      "02/15/2022  02:49 AM             1,345 ca.crt\n",
      "02/11/2022  07:30 AM            51,867 car.data\n",
      "03/06/2022  11:05 PM           628,633 carbon_nanotubes.csv\n",
      "02/15/2022  02:49 AM             1,525 cert\n",
      "02/15/2022  02:49 AM             3,679 cert.pfx\n",
      "02/15/2022  02:49 AM               499 config.json\n",
      "02/15/2022  02:49 AM               206 cqlshrc\n",
      "02/05/2022  11:47 AM            11,903 glass.data\n",
      "02/15/2022  02:49 AM             2,874 identity.jks\n",
      "04/19/2022  08:04 AM                 0 ineuron.db\n",
      "02/15/2022  02:49 AM             1,675 key\n",
      "04/19/2022  08:04 AM               922 SQLLITE.ipynb\n",
      "02/15/2022  02:49 AM             1,407 trustStore.jks\n",
      "02/06/2022  10:24 AM            16,109 Untitled.ipynb\n",
      "02/11/2022  11:43 AM           129,847 Untitled1.ipynb\n",
      "03/01/2022  03:15 PM            10,254 Untitled2.ipynb\n",
      "03/07/2022  01:29 AM             8,009 Untitled3.ipynb\n",
      "03/07/2022  12:00 AM            12,625 Untitled4.ipynb\n",
      "              18 File(s)        883,379 bytes\n",
      "               4 Dir(s)  92,023,447,552 bytes free\n"
     ]
    }
   ],
   "source": [
    "ls"
   ]
  },
  {
   "cell_type": "code",
   "execution_count": 6,
   "id": "9da790d8",
   "metadata": {},
   "outputs": [],
   "source": [
    "c = db.cursor()"
   ]
  },
  {
   "cell_type": "code",
   "execution_count": 7,
   "id": "29db836e",
   "metadata": {},
   "outputs": [
    {
     "data": {
      "text/plain": [
       "<sqlite3.Cursor at 0x2504ae63030>"
      ]
     },
     "execution_count": 7,
     "metadata": {},
     "output_type": "execute_result"
    }
   ],
   "source": [
    "c.execute('create table fsds(name text,batchid int , marks real)')"
   ]
  },
  {
   "cell_type": "code",
   "execution_count": 9,
   "id": "0af6e735",
   "metadata": {},
   "outputs": [
    {
     "data": {
      "text/plain": [
       "<sqlite3.Cursor at 0x2504ae63030>"
      ]
     },
     "execution_count": 9,
     "metadata": {},
     "output_type": "execute_result"
    }
   ],
   "source": [
    "c.execute('insert into fsds values(\"sudh\",3456,342)')"
   ]
  },
  {
   "cell_type": "code",
   "execution_count": 10,
   "id": "f8815b93",
   "metadata": {},
   "outputs": [
    {
     "data": {
      "text/plain": [
       "<sqlite3.Cursor at 0x2504ae63030>"
      ]
     },
     "execution_count": 10,
     "metadata": {},
     "output_type": "execute_result"
    }
   ],
   "source": [
    "c.execute('insert into fsds values(\"sudh\",3456,342)')\n",
    "c.execute('insert into fsds values(\"aman\",5643,453)')\n",
    "c.execute('insert into fsds values(\"sid\",6542,123)')\n",
    "c.execute('insert into fsds values(\"deeshant\",2642,234)')\n",
    "c.execute('insert into fsds values(\"ajay\",1646,312)')\n",
    "c.execute('insert into fsds values(\"nitin\",7643,313)')\n",
    "c.execute('insert into fsds values(\"akash\",2345,334)')\n",
    "c.execute('insert into fsds values(\"vaibhav\",1234,356)')"
   ]
  },
  {
   "cell_type": "code",
   "execution_count": 11,
   "id": "7b6c72b3",
   "metadata": {},
   "outputs": [],
   "source": [
    "data = c.execute('select * from fsds')"
   ]
  },
  {
   "cell_type": "code",
   "execution_count": 12,
   "id": "86d4ec81",
   "metadata": {},
   "outputs": [
    {
     "name": "stdout",
     "output_type": "stream",
     "text": [
      "('sudh', 3456, 342.0)\n",
      "('sudh', 3456, 342.0)\n",
      "('aman', 5643, 453.0)\n",
      "('sid', 6542, 123.0)\n",
      "('deeshant', 2642, 234.0)\n",
      "('ajay', 1646, 312.0)\n",
      "('nitin', 7643, 313.0)\n",
      "('akash', 2345, 334.0)\n",
      "('vaibhav', 1234, 356.0)\n"
     ]
    }
   ],
   "source": [
    "for i in data:\n",
    "    print(i)"
   ]
  },
  {
   "cell_type": "code",
   "execution_count": 13,
   "id": "3fed9c39",
   "metadata": {},
   "outputs": [],
   "source": [
    "db.commit()"
   ]
  },
  {
   "cell_type": "code",
   "execution_count": 14,
   "id": "d83453f4",
   "metadata": {},
   "outputs": [],
   "source": [
    "db.close()"
   ]
  },
  {
   "cell_type": "code",
   "execution_count": 15,
   "id": "4ae63ab3",
   "metadata": {},
   "outputs": [
    {
     "name": "stdout",
     "output_type": "stream",
     "text": [
      " Volume in drive C has no label.\n",
      " Volume Serial Number is 6058-0995\n",
      "\n",
      " Directory of C:\\Users\\AMAN\\Documents\\data science\\Database\n",
      "\n",
      "04/19/2022  08:12 AM    <DIR>          .\n",
      "02/21/2022  03:05 PM    <DIR>          ..\n",
      "04/19/2022  07:58 AM    <DIR>          .ipynb_checkpoints\n",
      "03/06/2022  09:39 PM    <DIR>          19.3 MongoDB\n",
      "02/15/2022  02:49 AM             1,345 ca.crt\n",
      "02/11/2022  07:30 AM            51,867 car.data\n",
      "03/06/2022  11:05 PM           628,633 carbon_nanotubes.csv\n",
      "02/15/2022  02:49 AM             1,525 cert\n",
      "02/15/2022  02:49 AM             3,679 cert.pfx\n",
      "02/15/2022  02:49 AM               499 config.json\n",
      "02/15/2022  02:49 AM               206 cqlshrc\n",
      "02/05/2022  11:47 AM            11,903 glass.data\n",
      "02/15/2022  02:49 AM             2,874 identity.jks\n",
      "04/19/2022  08:12 AM             8,192 ineuron.db\n",
      "02/15/2022  02:49 AM             1,675 key\n",
      "04/19/2022  08:10 AM             4,299 SQLLITE.ipynb\n",
      "02/15/2022  02:49 AM             1,407 trustStore.jks\n",
      "02/06/2022  10:24 AM            16,109 Untitled.ipynb\n",
      "02/11/2022  11:43 AM           129,847 Untitled1.ipynb\n",
      "03/01/2022  03:15 PM            10,254 Untitled2.ipynb\n",
      "03/07/2022  01:29 AM             8,009 Untitled3.ipynb\n",
      "03/07/2022  12:00 AM            12,625 Untitled4.ipynb\n",
      "              18 File(s)        894,948 bytes\n",
      "               4 Dir(s)  91,460,943,872 bytes free\n"
     ]
    }
   ],
   "source": [
    "ls"
   ]
  },
  {
   "cell_type": "code",
   "execution_count": 16,
   "id": "1726bd1c",
   "metadata": {},
   "outputs": [],
   "source": [
    "db = sqlite3.connect('ineuron.db')"
   ]
  },
  {
   "cell_type": "code",
   "execution_count": 17,
   "id": "92586b8b",
   "metadata": {},
   "outputs": [],
   "source": [
    "c= db.cursor()"
   ]
  },
  {
   "cell_type": "code",
   "execution_count": 19,
   "id": "213be69f",
   "metadata": {},
   "outputs": [],
   "source": [
    "d=c.execute('select * from fsds where marks >400')"
   ]
  },
  {
   "cell_type": "code",
   "execution_count": 20,
   "id": "df321390",
   "metadata": {},
   "outputs": [
    {
     "name": "stdout",
     "output_type": "stream",
     "text": [
      "('aman', 5643, 453.0)\n"
     ]
    }
   ],
   "source": [
    "for i in d:\n",
    "    print(i)"
   ]
  },
  {
   "cell_type": "code",
   "execution_count": 24,
   "id": "878b54e3",
   "metadata": {},
   "outputs": [],
   "source": [
    "data = c.execute('select * from fsds where name=\"sudh\"')"
   ]
  },
  {
   "cell_type": "code",
   "execution_count": 25,
   "id": "c71605f0",
   "metadata": {},
   "outputs": [
    {
     "name": "stdout",
     "output_type": "stream",
     "text": [
      "('sudh', 3456, 342.0)\n",
      "('sudh', 3456, 342.0)\n"
     ]
    }
   ],
   "source": [
    "for i in data:\n",
    "    print(i)"
   ]
  },
  {
   "cell_type": "code",
   "execution_count": 26,
   "id": "e3f30bbf",
   "metadata": {},
   "outputs": [],
   "source": [
    "data = c.execute(\"select name , marks from fsds order by marks\")"
   ]
  },
  {
   "cell_type": "code",
   "execution_count": 27,
   "id": "76e08598",
   "metadata": {},
   "outputs": [
    {
     "name": "stdout",
     "output_type": "stream",
     "text": [
      "('sid', 123.0)\n",
      "('deeshant', 234.0)\n",
      "('ajay', 312.0)\n",
      "('nitin', 313.0)\n",
      "('akash', 334.0)\n",
      "('sudh', 342.0)\n",
      "('sudh', 342.0)\n",
      "('vaibhav', 356.0)\n",
      "('aman', 453.0)\n"
     ]
    }
   ],
   "source": [
    "for i in data:\n",
    "    print(i)"
   ]
  },
  {
   "cell_type": "code",
   "execution_count": 28,
   "id": "1d7c99aa",
   "metadata": {},
   "outputs": [],
   "source": [
    "db.close()"
   ]
  },
  {
   "cell_type": "code",
   "execution_count": 29,
   "id": "c6fdb6c8",
   "metadata": {},
   "outputs": [],
   "source": [
    "db=sqlite3.connect(\"person.db\")"
   ]
  },
  {
   "cell_type": "code",
   "execution_count": 30,
   "id": "9fa89f84",
   "metadata": {},
   "outputs": [],
   "source": [
    "c=db.cursor()"
   ]
  },
  {
   "cell_type": "code",
   "execution_count": 31,
   "id": "bd07c715",
   "metadata": {},
   "outputs": [
    {
     "data": {
      "text/plain": [
       "<sqlite3.Cursor at 0x2504af0cd50>"
      ]
     },
     "execution_count": 31,
     "metadata": {},
     "output_type": "execute_result"
    }
   ],
   "source": [
    "c.execute(\"create table person(name text,emailid text, age int , salary real)\")"
   ]
  },
  {
   "cell_type": "code",
   "execution_count": 32,
   "id": "87fccedc",
   "metadata": {},
   "outputs": [
    {
     "name": "stdout",
     "output_type": "stream",
     "text": [
      " Volume in drive C has no label.\n",
      " Volume Serial Number is 6058-0995\n",
      "\n",
      " Directory of C:\\Users\\AMAN\\Documents\\data science\\Database\n",
      "\n",
      "04/19/2022  08:17 AM    <DIR>          .\n",
      "02/21/2022  03:05 PM    <DIR>          ..\n",
      "04/19/2022  07:58 AM    <DIR>          .ipynb_checkpoints\n",
      "03/06/2022  09:39 PM    <DIR>          19.3 MongoDB\n",
      "02/15/2022  02:49 AM             1,345 ca.crt\n",
      "02/11/2022  07:30 AM            51,867 car.data\n",
      "03/06/2022  11:05 PM           628,633 carbon_nanotubes.csv\n",
      "02/15/2022  02:49 AM             1,525 cert\n",
      "02/15/2022  02:49 AM             3,679 cert.pfx\n",
      "02/15/2022  02:49 AM               499 config.json\n",
      "02/15/2022  02:49 AM               206 cqlshrc\n",
      "02/05/2022  11:47 AM            11,903 glass.data\n",
      "02/15/2022  02:49 AM             2,874 identity.jks\n",
      "04/19/2022  08:12 AM             8,192 ineuron.db\n",
      "02/15/2022  02:49 AM             1,675 key\n",
      "04/19/2022  08:17 AM             8,192 person.db\n",
      "04/19/2022  08:16 AM             9,705 SQLLITE.ipynb\n",
      "02/15/2022  02:49 AM             1,407 trustStore.jks\n",
      "02/06/2022  10:24 AM            16,109 Untitled.ipynb\n",
      "02/11/2022  11:43 AM           129,847 Untitled1.ipynb\n",
      "03/01/2022  03:15 PM            10,254 Untitled2.ipynb\n",
      "03/07/2022  01:29 AM             8,009 Untitled3.ipynb\n",
      "03/07/2022  12:00 AM            12,625 Untitled4.ipynb\n",
      "              19 File(s)        908,546 bytes\n",
      "               4 Dir(s)  91,470,221,312 bytes free\n"
     ]
    }
   ],
   "source": [
    "ls"
   ]
  },
  {
   "cell_type": "code",
   "execution_count": 34,
   "id": "d16e14b4",
   "metadata": {},
   "outputs": [
    {
     "data": {
      "text/plain": [
       "<sqlite3.Cursor at 0x2504af0cd50>"
      ]
     },
     "execution_count": 34,
     "metadata": {},
     "output_type": "execute_result"
    }
   ],
   "source": [
    "c.execute(\"insert into person values('sudh','sudhanshu@ineuron.ai',25,2345)\")\n",
    "c.execute(\"insert into person values('aman','aman@ineuron.ai',22,4321)\")\n",
    "c.execute(\"insert into person values('ajay','ajay@ineuron.ai',23,2325)\")\n",
    "c.execute(\"insert into person values('akash','akash@ineuron.ai',29,2343)\")\n",
    "c.execute(\"insert into person values('nitin','nitin@ineuron.ai',27,4532)\")\n",
    "c.execute(\"insert into person values('nitesh','nitesh@ineuron.ai',26,5423)\")\n",
    "c.execute(\"insert into person values('rahul','rahul@ineuron.ai',21,2234)\")\n"
   ]
  },
  {
   "cell_type": "code",
   "execution_count": 35,
   "id": "8ad23f30",
   "metadata": {},
   "outputs": [],
   "source": [
    "data = c.execute(\"select * from person\")"
   ]
  },
  {
   "cell_type": "code",
   "execution_count": 36,
   "id": "41b89107",
   "metadata": {},
   "outputs": [
    {
     "name": "stdout",
     "output_type": "stream",
     "text": [
      "('sudh', 'sudhanshu@ineuron.ai', 25, 2345.0)\n",
      "('aman', 'aman@ineuron.ai', 22, 4321.0)\n",
      "('ajay', 'ajay@ineuron.ai', 23, 2325.0)\n",
      "('akash', 'akash@ineuron.ai', 29, 2343.0)\n",
      "('sudh', 'sudhanshu@ineuron.ai', 25, 2345.0)\n",
      "('aman', 'aman@ineuron.ai', 22, 4321.0)\n",
      "('ajay', 'ajay@ineuron.ai', 23, 2325.0)\n",
      "('akash', 'akash@ineuron.ai', 29, 2343.0)\n",
      "('nitin', 'nitin@ineuron.ai', 27, 4532.0)\n",
      "('nitesh', 'nitesh@ineuron.ai', 26, 5423.0)\n",
      "('rahul', 'rahul@ineuron.ai', 21, 2234.0)\n"
     ]
    }
   ],
   "source": [
    "for i in data:\n",
    "    print(i)"
   ]
  },
  {
   "cell_type": "code",
   "execution_count": 38,
   "id": "a05dc027",
   "metadata": {},
   "outputs": [],
   "source": [
    "db.commit()"
   ]
  },
  {
   "cell_type": "code",
   "execution_count": 39,
   "id": "b76b66cc",
   "metadata": {},
   "outputs": [],
   "source": [
    "db.close()"
   ]
  },
  {
   "cell_type": "code",
   "execution_count": 40,
   "id": "550cdbf8",
   "metadata": {},
   "outputs": [],
   "source": [
    "db=sqlite3.connect('ineuron.db')"
   ]
  },
  {
   "cell_type": "code",
   "execution_count": 41,
   "id": "fdc867ab",
   "metadata": {},
   "outputs": [],
   "source": [
    "c=db.cursor()"
   ]
  },
  {
   "cell_type": "code",
   "execution_count": 42,
   "id": "42a09aec",
   "metadata": {},
   "outputs": [
    {
     "data": {
      "text/plain": [
       "<sqlite3.Cursor at 0x2504af11ab0>"
      ]
     },
     "execution_count": 42,
     "metadata": {},
     "output_type": "execute_result"
    }
   ],
   "source": [
    "c.execute('drop table fsds')"
   ]
  },
  {
   "cell_type": "code",
   "execution_count": 44,
   "id": "d05477d2",
   "metadata": {},
   "outputs": [
    {
     "ename": "OperationalError",
     "evalue": "no such table: fsds",
     "output_type": "error",
     "traceback": [
      "\u001b[1;31m---------------------------------------------------------------------------\u001b[0m",
      "\u001b[1;31mOperationalError\u001b[0m                          Traceback (most recent call last)",
      "\u001b[1;32m~\\AppData\\Local\\Temp/ipykernel_19516/920992751.py\u001b[0m in \u001b[0;36m<module>\u001b[1;34m\u001b[0m\n\u001b[1;32m----> 1\u001b[1;33m \u001b[0mc\u001b[0m\u001b[1;33m.\u001b[0m\u001b[0mexecute\u001b[0m\u001b[1;33m(\u001b[0m\u001b[1;34m'select * from fsds'\u001b[0m\u001b[1;33m)\u001b[0m\u001b[1;33m\u001b[0m\u001b[1;33m\u001b[0m\u001b[0m\n\u001b[0m",
      "\u001b[1;31mOperationalError\u001b[0m: no such table: fsds"
     ]
    }
   ],
   "source": [
    "c.execute('select * from fsds')"
   ]
  },
  {
   "cell_type": "code",
   "execution_count": 45,
   "id": "f2e4a592",
   "metadata": {},
   "outputs": [],
   "source": [
    "db.close()"
   ]
  },
  {
   "cell_type": "code",
   "execution_count": 46,
   "id": "53b430fc",
   "metadata": {},
   "outputs": [],
   "source": [
    "db= sqlite3.connect('person.db')"
   ]
  },
  {
   "cell_type": "code",
   "execution_count": 47,
   "id": "9b7d19a0",
   "metadata": {},
   "outputs": [],
   "source": [
    "c=db.cursor()"
   ]
  },
  {
   "cell_type": "code",
   "execution_count": 49,
   "id": "7a35fae5",
   "metadata": {},
   "outputs": [],
   "source": [
    "data = c.execute('select * from person limit 2')"
   ]
  },
  {
   "cell_type": "code",
   "execution_count": 50,
   "id": "c447f746",
   "metadata": {},
   "outputs": [
    {
     "name": "stdout",
     "output_type": "stream",
     "text": [
      "('sudh', 'sudhanshu@ineuron.ai', 25, 2345.0)\n",
      "('aman', 'aman@ineuron.ai', 22, 4321.0)\n"
     ]
    }
   ],
   "source": [
    "for i in data:\n",
    "    print(i)"
   ]
  },
  {
   "cell_type": "code",
   "execution_count": 54,
   "id": "5dee0deb",
   "metadata": {},
   "outputs": [],
   "source": [
    "db = sqlite3.connect('jobdb.db')"
   ]
  },
  {
   "cell_type": "code",
   "execution_count": 52,
   "id": "0633d5c8",
   "metadata": {},
   "outputs": [],
   "source": [
    "db.close()"
   ]
  },
  {
   "cell_type": "code",
   "execution_count": 55,
   "id": "b12d9b80",
   "metadata": {},
   "outputs": [],
   "source": [
    "c= db.cursor()"
   ]
  },
  {
   "cell_type": "code",
   "execution_count": 56,
   "id": "19636e7c",
   "metadata": {},
   "outputs": [
    {
     "data": {
      "text/plain": [
       "<sqlite3.Cursor at 0x2504af197a0>"
      ]
     },
     "execution_count": 56,
     "metadata": {},
     "output_type": "execute_result"
    }
   ],
   "source": [
    "c.execute('create table student(student_id int,student_name text,student_mailid text, marks int)')"
   ]
  },
  {
   "cell_type": "code",
   "execution_count": 57,
   "id": "44b06e87",
   "metadata": {},
   "outputs": [
    {
     "data": {
      "text/plain": [
       "<sqlite3.Cursor at 0x2504af197a0>"
      ]
     },
     "execution_count": 57,
     "metadata": {},
     "output_type": "execute_result"
    }
   ],
   "source": [
    "c.execute('create table address(student_id int,pincode int, location text, nearby text, phone_no int)')"
   ]
  },
  {
   "cell_type": "code",
   "execution_count": 59,
   "id": "4a184be0",
   "metadata": {},
   "outputs": [
    {
     "data": {
      "text/plain": [
       "<sqlite3.Cursor at 0x2504af197a0>"
      ]
     },
     "execution_count": 59,
     "metadata": {},
     "output_type": "execute_result"
    }
   ],
   "source": [
    "c.execute(\"insert into student values(123,'aman','aman@ineuron.ai',1234)\")\n",
    "c.execute(\"insert into student values(124,'ajay','ajay@ineuron.ai',2345)\")\n",
    "c.execute(\"insert into student values(125,'rahul','rahul@ineuron.ai',3456)\")\n",
    "c.execute(\"insert into student values(126,'nitesh','nitesh@ineuron.ai',4567)\")\n",
    "c.execute(\"insert into student values(127,'nitin','nitin@ineuron.ai',5678)\")\n",
    "c.execute(\"insert into student values(128,'garima','garima@ineuron.ai',6789)\")\n",
    "c.execute(\"insert into student values(129,'rakesh','rakesh@ineuron.ai',1345)\")\n",
    "c.execute(\"insert into student values(121,'deep','deep@ineuron.ai',2456)\")\n",
    "c.execute(\"insert into student values(122,'vaibhav','vaibhav@ineuron.ai',3567)\")\n",
    "c.execute(\"insert into student values(130,'namita','namita@ineuron.ai',2365)\")\n",
    "c.execute(\"insert into student values(131,'riya','riya@ineuron.ai',7634)\")\n",
    "c.execute(\"insert into student values(132,'rajesh','rajesh@ineuron.ai',1534)\")"
   ]
  },
  {
   "cell_type": "code",
   "execution_count": 60,
   "id": "3d12112a",
   "metadata": {},
   "outputs": [
    {
     "data": {
      "text/plain": [
       "<sqlite3.Cursor at 0x2504af197a0>"
      ]
     },
     "execution_count": 60,
     "metadata": {},
     "output_type": "execute_result"
    }
   ],
   "source": [
    "c.execute('insert into address values(123,560034,\"whitefield\",\"ineuron office\",123451123)')\n",
    "c.execute('insert into address values(124,560034,\"whitefield\",\"ineuron office\",123451123)')\n",
    "c.execute('insert into address values(125,560034,\"whitefield\",\"ineuron office\",123451123)')\n",
    "c.execute('insert into address values(126,560034,\"whitefield\",\"ineuron office\",123451123)')\n",
    "c.execute('insert into address values(127,560034,\"whitefield\",\"ineuron office\",123451123)')\n",
    "c.execute('insert into address values(128,560034,\"whitefield\",\"ineuron office\",123451123)')\n",
    "c.execute('insert into address values(129,560034,\"whitefield\",\"ineuron office\",123451123)')\n",
    "c.execute('insert into address values(121,560034,\"whitefield\",\"ineuron office\",123451123)')\n",
    "c.execute('insert into address values(122,560034,\"whitefield\",\"ineuron office\",123451123)')\n",
    "c.execute('insert into address values(130,560034,\"whitefield\",\"ineuron office\",123451123)')\n",
    "c.execute('insert into address values(131,560034,\"whitefield\",\"ineuron office\",123451123)')\n",
    "c.execute('insert into address values(132,560034,\"whitefield\",\"ineuron office\",123451123)')"
   ]
  },
  {
   "cell_type": "code",
   "execution_count": 76,
   "id": "a93e1f0b",
   "metadata": {},
   "outputs": [],
   "source": [
    "data = c.execute('select * from student s left join address a on a.student_id == s.student_id')"
   ]
  },
  {
   "cell_type": "code",
   "execution_count": 77,
   "id": "56ff6786",
   "metadata": {},
   "outputs": [
    {
     "name": "stdout",
     "output_type": "stream",
     "text": [
      "(123, 'aman', 'aman@ineuron.ai', 1234, 123, 560034, 'whitefield', 'ineuron office', 123451123)\n",
      "(124, 'ajay', 'ajay@ineuron.ai', 2345, 124, 560034, 'whitefield', 'ineuron office', 123451123)\n",
      "(125, 'rahul', 'rahul@ineuron.ai', 3456, 125, 560034, 'whitefield', 'ineuron office', 123451123)\n",
      "(126, 'nitesh', 'nitesh@ineuron.ai', 4567, 126, 560034, 'whitefield', 'ineuron office', 123451123)\n",
      "(127, 'nitin', 'nitin@ineuron.ai', 5678, 127, 560034, 'whitefield', 'ineuron office', 123451123)\n",
      "(128, 'garima', 'garima@ineuron.ai', 6789, 128, 560034, 'whitefield', 'ineuron office', 123451123)\n",
      "(129, 'rakesh', 'rakesh@ineuron.ai', 1345, 129, 560034, 'whitefield', 'ineuron office', 123451123)\n",
      "(121, 'deep', 'deep@ineuron.ai', 2456, 121, 560034, 'whitefield', 'ineuron office', 123451123)\n",
      "(122, 'vaibhav', 'vaibhav@ineuron.ai', 3567, 122, 560034, 'whitefield', 'ineuron office', 123451123)\n",
      "(130, 'namita', 'namita@ineuron.ai', 2365, 130, 560034, 'whitefield', 'ineuron office', 123451123)\n",
      "(131, 'riya', 'riya@ineuron.ai', 7634, 131, 560034, 'whitefield', 'ineuron office', 123451123)\n",
      "(132, 'rajesh', 'rajesh@ineuron.ai', 1534, 132, 560034, 'whitefield', 'ineuron office', 123451123)\n",
      "(133, 'richa', 'richa@ineuron.ai', 2365, None, None, None, None, None)\n",
      "(134, 'taruna', 'taruna@ineuron.ai', 7634, None, None, None, None, None)\n",
      "(135, 'neha', 'neha@ineuron.ai', 1534, None, None, None, None, None)\n"
     ]
    }
   ],
   "source": [
    "for i in data:\n",
    "    print(i)"
   ]
  },
  {
   "cell_type": "code",
   "execution_count": 70,
   "id": "bfc51acc",
   "metadata": {},
   "outputs": [
    {
     "data": {
      "text/plain": [
       "<sqlite3.Cursor at 0x2504af197a0>"
      ]
     },
     "execution_count": 70,
     "metadata": {},
     "output_type": "execute_result"
    }
   ],
   "source": [
    "c.execute(\"insert into student values(133,'richa','richa@ineuron.ai',2365)\")\n",
    "c.execute(\"insert into student values(134,'taruna','taruna@ineuron.ai',7634)\")\n",
    "c.execute(\"insert into student values(135,'neha','neha@ineuron.ai',1534)\")"
   ]
  },
  {
   "cell_type": "code",
   "execution_count": 78,
   "id": "7e70e14f",
   "metadata": {},
   "outputs": [
    {
     "data": {
      "text/plain": [
       "<sqlite3.Cursor at 0x2504af197a0>"
      ]
     },
     "execution_count": 78,
     "metadata": {},
     "output_type": "execute_result"
    }
   ],
   "source": [
    "c.execute('delete from student where student_id >130')"
   ]
  },
  {
   "cell_type": "code",
   "execution_count": 84,
   "id": "d7ae114d",
   "metadata": {},
   "outputs": [
    {
     "data": {
      "text/plain": [
       "[(123, 'aman', 'aman@ineuron.ai', 1234),\n",
       " (124, 'ajay', 'ajay@ineuron.ai', 2345),\n",
       " (125, 'rahul', 'rahul@ineuron.ai', 3456),\n",
       " (1000, 'nitesh', 'nitesh@ineuron.ai', 4567),\n",
       " (127, 'nitin', 'nitin@ineuron.ai', 5678),\n",
       " (128, 'garima', 'garima@ineuron.ai', 6789),\n",
       " (129, 'rakesh', 'rakesh@ineuron.ai', 1345),\n",
       " (121, 'deep', 'deep@ineuron.ai', 2456),\n",
       " (122, 'vaibhav', 'vaibhav@ineuron.ai', 3567),\n",
       " (130, 'namita', 'namita@ineuron.ai', 2365)]"
      ]
     },
     "execution_count": 84,
     "metadata": {},
     "output_type": "execute_result"
    }
   ],
   "source": [
    "data = c.execute(\"select * from student\")\n",
    "data.fetchall()"
   ]
  },
  {
   "cell_type": "code",
   "execution_count": 83,
   "id": "932d90ee",
   "metadata": {},
   "outputs": [
    {
     "name": "stdout",
     "output_type": "stream",
     "text": [
      "(123, 'aman', 'aman@ineuron.ai', 1234)\n",
      "(124, 'ajay', 'ajay@ineuron.ai', 2345)\n",
      "(125, 'rahul', 'rahul@ineuron.ai', 3456)\n",
      "(1000, 'nitesh', 'nitesh@ineuron.ai', 4567)\n",
      "(127, 'nitin', 'nitin@ineuron.ai', 5678)\n",
      "(128, 'garima', 'garima@ineuron.ai', 6789)\n",
      "(129, 'rakesh', 'rakesh@ineuron.ai', 1345)\n",
      "(121, 'deep', 'deep@ineuron.ai', 2456)\n",
      "(122, 'vaibhav', 'vaibhav@ineuron.ai', 3567)\n",
      "(130, 'namita', 'namita@ineuron.ai', 2365)\n"
     ]
    }
   ],
   "source": [
    "for i in data:\n",
    "    print(i)"
   ]
  },
  {
   "cell_type": "code",
   "execution_count": 81,
   "id": "d1c27a7f",
   "metadata": {},
   "outputs": [
    {
     "data": {
      "text/plain": [
       "<sqlite3.Cursor at 0x2504af197a0>"
      ]
     },
     "execution_count": 81,
     "metadata": {},
     "output_type": "execute_result"
    }
   ],
   "source": [
    "c.execute(\"update student set student_id=1000 where student_id=126\")"
   ]
  },
  {
   "cell_type": "code",
   "execution_count": null,
   "id": "ca762a05",
   "metadata": {},
   "outputs": [],
   "source": []
  }
 ],
 "metadata": {
  "kernelspec": {
   "display_name": "Python 3 (ipykernel)",
   "language": "python",
   "name": "python3"
  },
  "language_info": {
   "codemirror_mode": {
    "name": "ipython",
    "version": 3
   },
   "file_extension": ".py",
   "mimetype": "text/x-python",
   "name": "python",
   "nbconvert_exporter": "python",
   "pygments_lexer": "ipython3",
   "version": "3.9.7"
  }
 },
 "nbformat": 4,
 "nbformat_minor": 5
}
