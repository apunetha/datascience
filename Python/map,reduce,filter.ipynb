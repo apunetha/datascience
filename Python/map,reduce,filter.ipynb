{
 "cells": [
  {
   "cell_type": "code",
   "execution_count": 1,
   "id": "cb34793b",
   "metadata": {},
   "outputs": [],
   "source": [
    "def test(a):\n",
    "    return a+5"
   ]
  },
  {
   "cell_type": "code",
   "execution_count": 8,
   "id": "da163c49",
   "metadata": {},
   "outputs": [
    {
     "data": {
      "text/plain": [
       "[6, 7, 8, 9, 10]"
      ]
     },
     "execution_count": 8,
     "metadata": {},
     "output_type": "execute_result"
    }
   ],
   "source": [
    "l=[1,2,3,4,5]\n",
    "l1=[]\n",
    "for i in l:\n",
    "    l1.append(i+5)\n",
    "l1"
   ]
  },
  {
   "cell_type": "code",
   "execution_count": 9,
   "id": "38cbb5fe",
   "metadata": {},
   "outputs": [
    {
     "data": {
      "text/plain": [
       "[11, 12, 13, 14, 15]"
      ]
     },
     "execution_count": 9,
     "metadata": {},
     "output_type": "execute_result"
    }
   ],
   "source": [
    "list(map(test,l1))"
   ]
  },
  {
   "cell_type": "code",
   "execution_count": 10,
   "id": "b98b707b",
   "metadata": {},
   "outputs": [],
   "source": [
    "l1=['123','12','21','123']\n",
    "def test2(a):\n",
    "    return int(a)"
   ]
  },
  {
   "cell_type": "code",
   "execution_count": 11,
   "id": "cad87165",
   "metadata": {},
   "outputs": [
    {
     "data": {
      "text/plain": [
       "[123, 12, 21, 123]"
      ]
     },
     "execution_count": 11,
     "metadata": {},
     "output_type": "execute_result"
    }
   ],
   "source": [
    "list(map(test2,l1))"
   ]
  },
  {
   "cell_type": "code",
   "execution_count": 12,
   "id": "91d48ca3",
   "metadata": {},
   "outputs": [
    {
     "data": {
      "text/plain": [
       "[123, 12, 21, 123]"
      ]
     },
     "execution_count": 12,
     "metadata": {},
     "output_type": "execute_result"
    }
   ],
   "source": [
    "list(map(lambda x :int(x),l1))"
   ]
  },
  {
   "cell_type": "code",
   "execution_count": 13,
   "id": "c9d3f305",
   "metadata": {},
   "outputs": [],
   "source": [
    "l =[1,23,54,462,62,62,234,2,3,4,5,5,6]"
   ]
  },
  {
   "cell_type": "code",
   "execution_count": 14,
   "id": "eed4f8ca",
   "metadata": {},
   "outputs": [],
   "source": [
    "def test(a):\n",
    "    if a%2==0:\n",
    "        return a"
   ]
  },
  {
   "cell_type": "code",
   "execution_count": 16,
   "id": "a7a2e87b",
   "metadata": {},
   "outputs": [
    {
     "data": {
      "text/plain": [
       "[54, 462, 62, 62, 234, 2, 4, 6]"
      ]
     },
     "execution_count": 16,
     "metadata": {},
     "output_type": "execute_result"
    }
   ],
   "source": [
    "[i for i in l if i%2==0]"
   ]
  },
  {
   "cell_type": "code",
   "execution_count": 17,
   "id": "9fc4c7b5",
   "metadata": {},
   "outputs": [
    {
     "data": {
      "text/plain": [
       "<filter at 0x23777bcf370>"
      ]
     },
     "execution_count": 17,
     "metadata": {},
     "output_type": "execute_result"
    }
   ],
   "source": [
    "filter(test,l)"
   ]
  },
  {
   "cell_type": "code",
   "execution_count": 19,
   "id": "de33a822",
   "metadata": {},
   "outputs": [
    {
     "data": {
      "text/plain": [
       "[54, 462, 62, 62, 234, 2, 4, 6]"
      ]
     },
     "execution_count": 19,
     "metadata": {},
     "output_type": "execute_result"
    }
   ],
   "source": [
    "list(filter(test,l))"
   ]
  },
  {
   "cell_type": "code",
   "execution_count": null,
   "id": "98f5de63",
   "metadata": {},
   "outputs": [],
   "source": [
    "list(fil)"
   ]
  }
 ],
 "metadata": {
  "kernelspec": {
   "display_name": "Python 3 (ipykernel)",
   "language": "python",
   "name": "python3"
  },
  "language_info": {
   "codemirror_mode": {
    "name": "ipython",
    "version": 3
   },
   "file_extension": ".py",
   "mimetype": "text/x-python",
   "name": "python",
   "nbconvert_exporter": "python",
   "pygments_lexer": "ipython3",
   "version": "3.9.7"
  }
 },
 "nbformat": 4,
 "nbformat_minor": 5
}
